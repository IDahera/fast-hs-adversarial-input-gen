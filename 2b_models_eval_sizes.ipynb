{
 "cells": [
  {
   "cell_type": "code",
   "execution_count": 1,
   "metadata": {},
   "outputs": [],
   "source": [
    "from dataclasses import dataclass\n",
    "from typing import List\n",
    "import pandas as pd\n",
    "\n",
    "from typing import Dict, Tuple\n",
    "from helper.config import TrainConfig\n",
    "from helper.global_variables import TRAIN_YAML_PATH, EXPERIMENT_YAML_PATH\n",
    "from helper.models import get_model, get_model_size\n",
    "from helper.config import ExperimentConfig\n",
    "\n",
    "# Get Submodel Sizes\n",
    "from helper.models import get_sub_model \n",
    "\n",
    "TARGET_PATH = \"models/sub-model-sizes.csv\""
   ]
  },
  {
   "cell_type": "code",
   "execution_count": 2,
   "metadata": {},
   "outputs": [],
   "source": [
    "def eval_model_size(\n",
    "    model_name: str,\n",
    "    layer_config: int,\n",
    "    dataset_name: str\n",
    ") -> Dict:\n",
    "    \"\"\"Evaluate a single model and return results.\"\"\"\n",
    "    # Load and prepare model\n",
    "    model = get_model(model_name)\n",
    "    sub_model = get_sub_model(model, model_name, layer_config)\n",
    "\n",
    "    model_size = get_model_size(sub_model)\n",
    "\n",
    "    \n",
    "    return {\n",
    "        \"Model\": model_name,\n",
    "        \"Layer Config\": layer_config,\n",
    "        \"Dataset\": dataset_name,\n",
    "        \"Parameters\": model_size,\n",
    "    }\n",
    "    \n",
    "@dataclass\n",
    "class ModelSizeResult:\n",
    "    model_name: str\n",
    "    layer_config: int\n",
    "    dataset: str\n",
    "    parameters: int\n",
    "\n",
    "def evaluate_model_sizes(model_configs: List[Tuple[str, int]]) -> pd.DataFrame:\n",
    "    \"\"\"Evaluate sizes of model configurations and return results as DataFrame\n",
    "    \n",
    "    Args:\n",
    "        model_configs: List of (model_name, layer_config) tuples\n",
    "        \n",
    "    Returns:\n",
    "        DataFrame with model size information\n",
    "    \"\"\"\n",
    "    results: List[ModelSizeResult] = []\n",
    "    \n",
    "    for model_name, layer_config in model_configs:\n",
    "        # Parse model info\n",
    "        dataset_name = model_name.split(\"-\")[0]\n",
    "        \n",
    "        # Evaluate size\n",
    "        result = eval_model_size(\n",
    "            model_name=model_name,\n",
    "            layer_config=layer_config,\n",
    "            dataset_name=dataset_name\n",
    "        )\n",
    "        results.append(result)\n",
    "    \n",
    "    # Create and format DataFrame\n",
    "    df = pd.DataFrame(results)\n",
    "    print(df)\n",
    "    df.sort_values(by=[\"Model\", \"Layer Config\"], inplace=True)\n",
    "    \n",
    "    return df"
   ]
  },
  {
   "cell_type": "code",
   "execution_count": 3,
   "metadata": {},
   "outputs": [
    {
     "name": "stdout",
     "output_type": "stream",
     "text": [
      "[('cifar10-mobilenet', 3), ('mnist-conv', 1), ('cifar10-squeezenet', 1), ('mnist-dense10x100', 1), ('fmnist-dense', 1), ('mnist-dense', 1), ('cifar10-mobilenet', 2), ('cifar10-squeezenet', 3), ('mnist-dense8x20', 2), ('fmnist-conv', 1), ('cifar10-mobilenet', 1), ('cifar10-squeezenet', 2), ('mnist-dense10x100', 2), ('mnist-dense8x20', 1)]\n"
     ]
    },
    {
     "name": "stderr",
     "output_type": "stream",
     "text": [
      "/home/d.rashedi/miniconda3/envs/py12/lib/python3.12/site-packages/torchvision/models/_utils.py:208: UserWarning: The parameter 'pretrained' is deprecated since 0.13 and may be removed in the future, please use 'weights' instead.\n",
      "  warnings.warn(\n",
      "/home/d.rashedi/miniconda3/envs/py12/lib/python3.12/site-packages/torchvision/models/_utils.py:223: UserWarning: Arguments other than a weight enum or `None` for 'weights' are deprecated since 0.13 and may be removed in the future. The current behavior is equivalent to passing `weights=MobileNet_V3_Small_Weights.IMAGENET1K_V1`. You can also use `weights=MobileNet_V3_Small_Weights.DEFAULT` to get the most up-to-date weights.\n",
      "  warnings.warn(msg)\n",
      "/home/d.rashedi/miniconda3/envs/py12/lib/python3.12/site-packages/torchvision/models/_utils.py:223: UserWarning: Arguments other than a weight enum or `None` for 'weights' are deprecated since 0.13 and may be removed in the future. The current behavior is equivalent to passing `weights=SqueezeNet1_1_Weights.IMAGENET1K_V1`. You can also use `weights=SqueezeNet1_1_Weights.DEFAULT` to get the most up-to-date weights.\n",
      "  warnings.warn(msg)\n"
     ]
    },
    {
     "name": "stdout",
     "output_type": "stream",
     "text": [
      "                 Model  Layer Config  Dataset  Parameters\n",
      "0    cifar10-mobilenet             3  cifar10     2542856\n",
      "1           mnist-conv             1    mnist        2572\n",
      "2   cifar10-squeezenet             1  cifar10        1792\n",
      "3    mnist-dense10x100             1    mnist      129000\n",
      "4         fmnist-dense             1   fmnist      566144\n",
      "5          mnist-dense             1    mnist      566144\n",
      "6    cifar10-mobilenet             2  cifar10      925856\n",
      "7   cifar10-squeezenet             3  cifar10     1235496\n",
      "8      mnist-dense8x20             2    mnist       19060\n",
      "9          fmnist-conv             1   fmnist        2572\n",
      "10   cifar10-mobilenet             1  cifar10         464\n",
      "11  cifar10-squeezenet             2  cifar10      558144\n",
      "12   mnist-dense10x100             2    mnist      179500\n",
      "13     mnist-dense8x20             1    mnist       17380\n",
      "\n",
      "Evaluation Results:\n",
      "                 Model  Layer Config  Dataset  Parameters\n",
      "10   cifar10-mobilenet             1  cifar10         464\n",
      "6    cifar10-mobilenet             2  cifar10      925856\n",
      "0    cifar10-mobilenet             3  cifar10     2542856\n",
      "2   cifar10-squeezenet             1  cifar10        1792\n",
      "11  cifar10-squeezenet             2  cifar10      558144\n",
      "7   cifar10-squeezenet             3  cifar10     1235496\n",
      "9          fmnist-conv             1   fmnist        2572\n",
      "4         fmnist-dense             1   fmnist      566144\n",
      "1           mnist-conv             1    mnist        2572\n",
      "5          mnist-dense             1    mnist      566144\n",
      "3    mnist-dense10x100             1    mnist      129000\n",
      "12   mnist-dense10x100             2    mnist      179500\n",
      "13     mnist-dense8x20             1    mnist       17380\n",
      "8      mnist-dense8x20             2    mnist       19060\n"
     ]
    }
   ],
   "source": [
    "# Preparation: Read from Configurations\n",
    "train_config: TrainConfig = TrainConfig(TRAIN_YAML_PATH)\n",
    "exp_config: ExperimentConfig = ExperimentConfig(\n",
    "    EXPERIMENT_YAML_PATH, train_config)\n",
    "\n",
    "# Main\n",
    "model_configs = exp_config.get_relevant_model_layer_configs()\n",
    "print(model_configs)\n",
    "df_sizes = evaluate_model_sizes(model_configs)\n",
    "df_sizes.to_csv(TARGET_PATH, index=False)\n",
    "print(\"\\nEvaluation Results:\")\n",
    "print(df_sizes)"
   ]
  }
 ],
 "metadata": {
  "kernelspec": {
   "display_name": "py12",
   "language": "python",
   "name": "python3"
  },
  "language_info": {
   "codemirror_mode": {
    "name": "ipython",
    "version": 3
   },
   "file_extension": ".py",
   "mimetype": "text/x-python",
   "name": "python",
   "nbconvert_exporter": "python",
   "pygments_lexer": "ipython3",
   "version": "3.12.4"
  }
 },
 "nbformat": 4,
 "nbformat_minor": 2
}
