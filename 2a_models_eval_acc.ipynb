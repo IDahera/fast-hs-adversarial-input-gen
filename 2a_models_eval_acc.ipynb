{
 "cells": [
  {
   "cell_type": "code",
   "execution_count": 1,
   "metadata": {},
   "outputs": [],
   "source": [
    "import torch\n",
    "import pandas as pd\n",
    "\n",
    "from typing import Dict, List\n",
    "from helper.config import TrainConfig\n",
    "from helper.global_variables import TRAIN_YAML_PATH\n",
    "from helper.models import get_model, evaluate_model, get_model_size\n",
    "from helper.datasets import get_dataset_loader"
   ]
  },
  {
   "cell_type": "code",
   "execution_count": 2,
   "metadata": {},
   "outputs": [
    {
     "ename": "NameError",
     "evalue": "name 'dataclass' is not defined",
     "output_type": "error",
     "traceback": [
      "\u001b[0;31m---------------------------------------------------------------------------\u001b[0m",
      "\u001b[0;31mNameError\u001b[0m                                 Traceback (most recent call last)",
      "Cell \u001b[0;32mIn[2], line 2\u001b[0m\n\u001b[1;32m      1\u001b[0m \u001b[38;5;66;03m# Main Functions\u001b[39;00m\n\u001b[0;32m----> 2\u001b[0m \u001b[38;5;129m@dataclass\u001b[39m\n\u001b[1;32m      3\u001b[0m \u001b[38;5;28;01mclass\u001b[39;00m \u001b[38;5;21;01mTrainAccResult\u001b[39;00m:\n\u001b[1;32m      4\u001b[0m     dataset: \u001b[38;5;28mstr\u001b[39m\n\u001b[1;32m      5\u001b[0m     model: \u001b[38;5;28mstr\u001b[39m\n",
      "\u001b[0;31mNameError\u001b[0m: name 'dataclass' is not defined"
     ]
    }
   ],
   "source": [
    "# Main Functions\n",
    "@dataclass\n",
    "class TrainAccResult:\n",
    "    dataset: str\n",
    "    model: str\n",
    "    size: int\n",
    "    epochs: int\n",
    "    accuracy: float\n",
    "\n",
    "def eval_wrapper(\n",
    "    model_name: str,\n",
    "    dataset_name: str,\n",
    "    model_path: str,\n",
    "    epochs: int\n",
    ") -> Dict:\n",
    "\n",
    "    \"\"\"Evaluate a single model and return results.\"\"\"\n",
    "    # Load and prepare model\n",
    "    model = get_model(model_name)\n",
    "    model.load_state_dict(torch.load(model_path))\n",
    "    model.eval()\n",
    "\n",
    "    model_size = get_model_size(model)\n",
    "\n",
    "    # Get data and evaluate\n",
    "    _, test_loader = get_dataset_loader(dataset_name)\n",
    "    accuracy = evaluate_model(model, test_loader)\n",
    "\n",
    "    return TrainAccResult(dataset_name, \n",
    "                          model_name, \n",
    "                          model_size, \n",
    "                          epochs, \n",
    "                          accuracy)\n",
    "\n",
    "def evaluate_model_accuracies(train_config: TrainConfig) -> None:\n",
    "    results: List[TrainAccResult] = []\n",
    "\n",
    "    # Evaluate each model\n",
    "    for model_name, model_path in train_config.get_models():\n",
    "        \n",
    "        # Parse config key\n",
    "        dataset_name = model_name.split(\"-\")[0]\n",
    "        \n",
    "        # Evaluate model\n",
    "        try:\n",
    "            result = eval_wrapper(\n",
    "                model_name=model_name,\n",
    "                dataset_name=dataset_name,\n",
    "                model_path=model_path,\n",
    "                epochs=train_config.epochs\n",
    "            )\n",
    "            results.append(result)\n",
    "            \n",
    "        except Exception as e:\n",
    "            print(f\"Error evaluating {model_name} on {dataset_name}: {str(e)}\")\n",
    "\n",
    "    # Save and display results\n",
    "    return pd.DataFrame(results)"
   ]
  },
  {
   "cell_type": "code",
   "execution_count": 3,
   "metadata": {},
   "outputs": [
    {
     "name": "stderr",
     "output_type": "stream",
     "text": [
      "/tmp/ipykernel_2686553/3535243624.py:12: FutureWarning: You are using `torch.load` with `weights_only=False` (the current default value), which uses the default pickle module implicitly. It is possible to construct malicious pickle data which will execute arbitrary code during unpickling (See https://github.com/pytorch/pytorch/blob/main/SECURITY.md#untrusted-models for more details). In a future release, the default value for `weights_only` will be flipped to `True`. This limits the functions that could be executed during unpickling. Arbitrary objects will no longer be allowed to be loaded via this mode unless they are explicitly allowlisted by the user via `torch.serialization.add_safe_globals`. We recommend you start setting `weights_only=True` for any use case where you don't have full control of the loaded file. Please open an issue on GitHub for any issues related to this experimental feature.\n",
      "  model.load_state_dict(torch.load(model_path))\n",
      "Evaluate Model ...: 100%|██████████| 157/157 [00:00<00:00, 239.14it/s]\n",
      "Evaluate Model ...: 100%|██████████| 157/157 [00:00<00:00, 264.37it/s]\n",
      "Evaluate Model ...: 100%|██████████| 157/157 [00:00<00:00, 258.08it/s]\n",
      "Evaluate Model ...: 100%|██████████| 157/157 [00:00<00:00, 202.12it/s]\n",
      "Evaluate Model ...: 100%|██████████| 157/157 [00:00<00:00, 267.42it/s]\n",
      "Evaluate Model ...: 100%|██████████| 157/157 [00:00<00:00, 269.12it/s]\n",
      "/home/d.rashedi/miniconda3/envs/py12/lib/python3.12/site-packages/torchvision/models/_utils.py:208: UserWarning: The parameter 'pretrained' is deprecated since 0.13 and may be removed in the future, please use 'weights' instead.\n",
      "  warnings.warn(\n",
      "/home/d.rashedi/miniconda3/envs/py12/lib/python3.12/site-packages/torchvision/models/_utils.py:223: UserWarning: Arguments other than a weight enum or `None` for 'weights' are deprecated since 0.13 and may be removed in the future. The current behavior is equivalent to passing `weights=MobileNet_V3_Small_Weights.IMAGENET1K_V1`. You can also use `weights=MobileNet_V3_Small_Weights.DEFAULT` to get the most up-to-date weights.\n",
      "  warnings.warn(msg)\n"
     ]
    },
    {
     "name": "stdout",
     "output_type": "stream",
     "text": [
      "Files already downloaded and verified\n",
      "Files already downloaded and verified\n"
     ]
    },
    {
     "name": "stderr",
     "output_type": "stream",
     "text": [
      "Evaluate Model ...: 100%|██████████| 157/157 [00:04<00:00, 34.96it/s]\n",
      "/home/d.rashedi/miniconda3/envs/py12/lib/python3.12/site-packages/torchvision/models/_utils.py:223: UserWarning: Arguments other than a weight enum or `None` for 'weights' are deprecated since 0.13 and may be removed in the future. The current behavior is equivalent to passing `weights=SqueezeNet1_1_Weights.IMAGENET1K_V1`. You can also use `weights=SqueezeNet1_1_Weights.DEFAULT` to get the most up-to-date weights.\n",
      "  warnings.warn(msg)\n"
     ]
    },
    {
     "name": "stdout",
     "output_type": "stream",
     "text": [
      "Files already downloaded and verified\n",
      "Files already downloaded and verified\n"
     ]
    },
    {
     "name": "stderr",
     "output_type": "stream",
     "text": [
      "Evaluate Model ...: 100%|██████████| 157/157 [00:05<00:00, 29.63it/s]\n"
     ]
    },
    {
     "name": "stdout",
     "output_type": "stream",
     "text": [
      "\n",
      "Evaluation Results:\n",
      "   Dataset               Model     Size  Epochs  Accuracy (%)\n",
      "0    mnist     mnist-dense8x20    19270       5         91.22\n",
      "1    mnist   mnist-dense10x100   180510       5         95.47\n",
      "2    mnist         mnist-dense   576810       5         97.28\n",
      "3    mnist          mnist-conv    28534       5         98.63\n",
      "4   fmnist        fmnist-dense   576810       5         87.42\n",
      "5   fmnist         fmnist-conv    28534       5         88.65\n",
      "6  cifar10   cifar10-mobilenet  2542856       5         87.74\n",
      "7  cifar10  cifar10-squeezenet  1235496       5         79.00\n"
     ]
    }
   ],
   "source": [
    "# Load configuration\n",
    "train_config: TrainConfig = TrainConfig(TRAIN_YAML_PATH)\n",
    "\n",
    "df = evaluate_model_accuracies(train_config)\n",
    "df.to_csv(\"models/model-eval-results.csv\", index=False)\n",
    "\n",
    "print(\"\\nEvaluation Results:\")\n",
    "print(df)"
   ]
  }
 ],
 "metadata": {
  "kernelspec": {
   "display_name": "py12",
   "language": "python",
   "name": "python3"
  },
  "language_info": {
   "codemirror_mode": {
    "name": "ipython",
    "version": 3
   },
   "file_extension": ".py",
   "mimetype": "text/x-python",
   "name": "python",
   "nbconvert_exporter": "python",
   "pygments_lexer": "ipython3",
   "version": "3.12.4"
  }
 },
 "nbformat": 4,
 "nbformat_minor": 2
}
